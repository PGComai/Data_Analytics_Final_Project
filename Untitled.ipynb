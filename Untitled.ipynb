{
 "cells": [
  {
   "cell_type": "code",
   "execution_count": 67,
   "id": "6a4a4394",
   "metadata": {},
   "outputs": [],
   "source": [
    "from bs4 import BeautifulSoup\n",
    "import requests\n",
    "import csv\n",
    "\n",
    "#get html\n",
    "url = \"https://www.amazon.com/Best-Sellers-Magazine-Subscriptions/zgbs/magazines/ref=zg_bs_pg_1?_encoding=UTF8&pg=1\"\n",
    "\n",
    "headers = {'user-agent': \"Mozilla/5.0 (Macintosh; Intel Mac OS X 10_15_7) AppleWebKit/537.36 (KHTML, like Gecko) Chrome/109.0.0.0 Safari/537.36\"}\n",
    "\n",
    "page = requests.get(url, headers=headers)\n",
    "\n",
    "soup = BeautifulSoup(page.content, 'html.parser')\n",
    "\n",
    "# get all books\n",
    "books = soup.find_all(id=\"gridItemRoot\")\n",
    "\n",
    "# CSV\n",
    "csv_headers = ['Rank', 'Title', 'Author', 'Price']\n",
    "with open('best_book_seller_amazon.csv', 'w', encoding='utf-8', newline='') as f:\n",
    "    writer = csv.writer(f)\n",
    "    writer.writerow(csv_headers)\n",
    "\n",
    "# Pulling rank\n",
    "# rank = book.find('span', class_=\"zg-bdg-text\").text[1:]\n",
    "\n",
    "#     # print(rank)\n",
    "\n",
    "# # Pull \n",
    "# info = book.find('div', class_='zg-grid-general-faceout').div\n",
    "\n",
    "#     # print(info)\n",
    "\n",
    "# # Pull title of book\n",
    "# title = info.contents[1].text\n",
    "\n",
    "# # Pull Author\n",
    "# author = info.contents[2].text\n",
    "\n",
    "# # Pull Price\n",
    "# price = info.contents[-1].text\n",
    "\n",
    "# print(price)\n",
    "\n",
    "\n"
   ]
  },
  {
   "cell_type": "code",
   "execution_count": 68,
   "id": "a9790555",
   "metadata": {},
   "outputs": [],
   "source": [
    "for book in books:\n",
    "    rank = book.find('span', class_=\"zg-bdg-text\").text[1:]\n",
    "    # Pull \n",
    "    info = book.find('div', class_='zg-grid-general-faceout').div\n",
    "    # Pull title of book\n",
    "    title = info.contents[1].text\n",
    "    # Pull Author\n",
    "    author = info.contents[2].text\n",
    "    # Pull Price\n",
    "    price = info.contents[-1].text\n",
    "\n",
    "    with open('best_book_seller_amazon.csv', 'a', encoding='utf-8', newline='') as f:\n",
    "        writer = csv.writer(f)\n",
    "        writer.writerow([rank, title, author, price])"
   ]
  },
  {
   "cell_type": "code",
   "execution_count": 38,
   "id": "6e00282a",
   "metadata": {},
   "outputs": [],
   "source": [
    "\n"
   ]
  },
  {
   "cell_type": "code",
   "execution_count": null,
   "id": "0f1bad3c",
   "metadata": {},
   "outputs": [],
   "source": []
  },
  {
   "cell_type": "code",
   "execution_count": null,
   "id": "c62df0ef",
   "metadata": {},
   "outputs": [],
   "source": []
  }
 ],
 "metadata": {
  "kernelspec": {
   "display_name": "mlenv",
   "language": "python",
   "name": "mlenv"
  },
  "language_info": {
   "codemirror_mode": {
    "name": "ipython",
    "version": 3
   },
   "file_extension": ".py",
   "mimetype": "text/x-python",
   "name": "python",
   "nbconvert_exporter": "python",
   "pygments_lexer": "ipython3",
   "version": "3.7.13"
  },
  "varInspector": {
   "cols": {
    "lenName": 16,
    "lenType": 16,
    "lenVar": 40
   },
   "kernels_config": {
    "python": {
     "delete_cmd_postfix": "",
     "delete_cmd_prefix": "del ",
     "library": "var_list.py",
     "varRefreshCmd": "print(var_dic_list())"
    },
    "r": {
     "delete_cmd_postfix": ") ",
     "delete_cmd_prefix": "rm(",
     "library": "var_list.r",
     "varRefreshCmd": "cat(var_dic_list()) "
    }
   },
   "types_to_exclude": [
    "module",
    "function",
    "builtin_function_or_method",
    "instance",
    "_Feature"
   ],
   "window_display": false
  }
 },
 "nbformat": 4,
 "nbformat_minor": 5
}
